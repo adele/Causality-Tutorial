{
  "cells": [
    {
      "cell_type": "markdown",
      "metadata": {
        "id": "Pmhe2GzVOTeh"
      },
      "source": [
        "\n",
        "# **Tutorial on Causality**\n",
        "## TACsy PhD School 2025\n",
        "### Date: February 19, 2025 <br>\n",
        "### Lecturer: Adèle Helena Ribeiro"
      ]
    },
    {
      "cell_type": "markdown",
      "metadata": {
        "id": "Uh6kq1DVO4GQ"
      },
      "source": [
        "## Setup\n",
        "\n"
      ]
    },
    {
      "cell_type": "code",
      "execution_count": 1,
      "metadata": {
        "id": "jYfZ_d9gVMUu"
      },
      "outputs": [],
      "source": [
        "%load_ext rpy2.ipython"
      ]
    },
    {
      "cell_type": "code",
      "source": [
        "!apt-get install librsvg2-dev > /dev/null 2>&1\n",
        "\n"
      ],
      "metadata": {
        "id": "7_t0C7VEmiSb",
        "collapsed": true
      },
      "execution_count": 2,
      "outputs": []
    },
    {
      "cell_type": "code",
      "execution_count": 3,
      "metadata": {
        "id": "MCv5brq0EH_p",
        "colab": {
          "base_uri": "https://localhost:8080/"
        },
        "outputId": "43191d4e-0e9e-4758-d671-4502e7da8946"
      },
      "outputs": [
        {
          "output_type": "stream",
          "name": "stdout",
          "text": [
            "\u001b[0m\u001b[01;34mabind\u001b[0m/         \u001b[01;34mclue\u001b[0m/         \u001b[01;34mgraph\u001b[0m/        \u001b[01;34mlmtest\u001b[0m/      \u001b[01;34mpbivnorm\u001b[0m/       \u001b[01;34mrgl\u001b[0m/          \u001b[01;34mV8\u001b[0m/\n",
            "\u001b[01;34mape\u001b[0m/           \u001b[01;34mcorpcor\u001b[0m/      \u001b[01;34mhtmlwidgets\u001b[0m/  \u001b[01;34m__MACOSX\u001b[0m/    \u001b[01;34mpcalg\u001b[0m/          \u001b[01;34mRgraphviz\u001b[0m/    \u001b[01;34mvcd\u001b[0m/\n",
            "\u001b[01;34mbdsmatrix\u001b[0m/     \u001b[01;34mdagitty\u001b[0m/      \u001b[01;34mhuge\u001b[0m/         \u001b[01;34mmarkdown\u001b[0m/    \u001b[01;34mquadprog\u001b[0m/       \u001b[01;34mR.methodsS3\u001b[0m/  \u001b[01;34mvdiffr\u001b[0m/\n",
            "\u001b[01;34mBH\u001b[0m/            \u001b[01;34mdecor\u001b[0m/        \u001b[01;34migraph\u001b[0m/       \u001b[01;34mmatrixcalc\u001b[0m/  \u001b[01;34mRBGL\u001b[0m/           \u001b[01;34mrobustbase\u001b[0m/   \u001b[01;34mXML\u001b[0m/\n",
            "\u001b[01;34mBiocGenerics\u001b[0m/  \u001b[01;34mDEoptimR\u001b[0m/     \u001b[01;34migraphdata\u001b[0m/   \u001b[01;34mmnormt\u001b[0m/      \u001b[01;34mR.cache\u001b[0m/        \u001b[01;34mR.oo\u001b[0m/         \u001b[01;34mzoo\u001b[0m/\n",
            "\u001b[01;34mBiocManager\u001b[0m/   \u001b[01;34mDOT\u001b[0m/          \u001b[01;34mIRdisplay\u001b[0m/    \u001b[01;34mmvtnorm\u001b[0m/     \u001b[01;34mRcpp\u001b[0m/           \u001b[01;34mR.rsp\u001b[0m/\n",
            "\u001b[01;34mBiocVersion\u001b[0m/   \u001b[01;34mfastDummies\u001b[0m/  \u001b[01;34mIRkernel\u001b[0m/     \u001b[01;34mnumDeriv\u001b[0m/    \u001b[01;34mRcppArmadillo\u001b[0m/  \u001b[01;34mrsvg\u001b[0m/\n",
            "\u001b[01;34mcausaleffect\u001b[0m/  \u001b[01;34mfastICA\u001b[0m/      \u001b[01;34mjsonlite\u001b[0m/     \u001b[01;34mPAGId\u001b[0m/       \u001b[01;34mRcppEigen\u001b[0m/      \u001b[01;34mR.utils\u001b[0m/\n",
            "\u001b[01;34mCCP\u001b[0m/           \u001b[01;34mggm\u001b[0m/          \u001b[01;34mlavaan\u001b[0m/       \u001b[01;34mpbdZMQ\u001b[0m/      \u001b[01;34mrepr\u001b[0m/           \u001b[01;34msfsmisc\u001b[0m/\n"
          ]
        }
      ],
      "source": [
        "%ls \"/usr/local/lib/R/site-library/\""
      ]
    },
    {
      "cell_type": "code",
      "source": [
        "!wget -c https://github.com/adele/Causality-Tutorial/raw/refs/heads/main/resources/Rpackages.zip -O Rpackages.zip\n",
        "!file *.zip\n",
        "!unzip -n Rpackages.zip -d /usr/local/lib/R/site-library/ > /dev/null 2>&1"
      ],
      "metadata": {
        "colab": {
          "base_uri": "https://localhost:8080/"
        },
        "id": "YIhhE6cfnS8t",
        "outputId": "2d8d50ec-98ef-4d73-fa50-e137f65857fa",
        "collapsed": true
      },
      "execution_count": 4,
      "outputs": [
        {
          "output_type": "stream",
          "name": "stdout",
          "text": [
            "--2025-02-17 19:46:44--  https://github.com/adele/Causality-Tutorial/raw/refs/heads/main/resources/Rpackages.zip\n",
            "Resolving github.com (github.com)... 140.82.114.4\n",
            "Connecting to github.com (github.com)|140.82.114.4|:443... connected.\n",
            "HTTP request sent, awaiting response... 302 Found\n",
            "Location: https://raw.githubusercontent.com/adele/Causality-Tutorial/refs/heads/main/resources/Rpackages.zip [following]\n",
            "--2025-02-17 19:46:44--  https://raw.githubusercontent.com/adele/Causality-Tutorial/refs/heads/main/resources/Rpackages.zip\n",
            "Resolving raw.githubusercontent.com (raw.githubusercontent.com)... 185.199.108.133, 185.199.109.133, 185.199.110.133, ...\n",
            "Connecting to raw.githubusercontent.com (raw.githubusercontent.com)|185.199.108.133|:443... connected.\n",
            "HTTP request sent, awaiting response... 416 Range Not Satisfiable\n",
            "\n",
            "    The file is already fully retrieved; nothing to do.\n",
            "\n",
            "Rpackages.zip: Zip archive data, at least v2.0 to extract, compression method=store\n"
          ]
        }
      ]
    },
    {
      "cell_type": "code",
      "execution_count": 5,
      "metadata": {
        "id": "BCatcedkGW4Z",
        "colab": {
          "base_uri": "https://localhost:8080/"
        },
        "outputId": "e548645c-9f4d-4323-b4ef-adafa522b153"
      },
      "outputs": [
        {
          "output_type": "stream",
          "name": "stdout",
          "text": [
            "\u001b[0m\u001b[01;34mabind\u001b[0m/         \u001b[01;34mclue\u001b[0m/         \u001b[01;34mgraph\u001b[0m/        \u001b[01;34mlmtest\u001b[0m/      \u001b[01;34mpbivnorm\u001b[0m/       \u001b[01;34mrgl\u001b[0m/          \u001b[01;34mV8\u001b[0m/\n",
            "\u001b[01;34mape\u001b[0m/           \u001b[01;34mcorpcor\u001b[0m/      \u001b[01;34mhtmlwidgets\u001b[0m/  \u001b[01;34m__MACOSX\u001b[0m/    \u001b[01;34mpcalg\u001b[0m/          \u001b[01;34mRgraphviz\u001b[0m/    \u001b[01;34mvcd\u001b[0m/\n",
            "\u001b[01;34mbdsmatrix\u001b[0m/     \u001b[01;34mdagitty\u001b[0m/      \u001b[01;34mhuge\u001b[0m/         \u001b[01;34mmarkdown\u001b[0m/    \u001b[01;34mquadprog\u001b[0m/       \u001b[01;34mR.methodsS3\u001b[0m/  \u001b[01;34mvdiffr\u001b[0m/\n",
            "\u001b[01;34mBH\u001b[0m/            \u001b[01;34mdecor\u001b[0m/        \u001b[01;34migraph\u001b[0m/       \u001b[01;34mmatrixcalc\u001b[0m/  \u001b[01;34mRBGL\u001b[0m/           \u001b[01;34mrobustbase\u001b[0m/   \u001b[01;34mXML\u001b[0m/\n",
            "\u001b[01;34mBiocGenerics\u001b[0m/  \u001b[01;34mDEoptimR\u001b[0m/     \u001b[01;34migraphdata\u001b[0m/   \u001b[01;34mmnormt\u001b[0m/      \u001b[01;34mR.cache\u001b[0m/        \u001b[01;34mR.oo\u001b[0m/         \u001b[01;34mzoo\u001b[0m/\n",
            "\u001b[01;34mBiocManager\u001b[0m/   \u001b[01;34mDOT\u001b[0m/          \u001b[01;34mIRdisplay\u001b[0m/    \u001b[01;34mmvtnorm\u001b[0m/     \u001b[01;34mRcpp\u001b[0m/           \u001b[01;34mR.rsp\u001b[0m/\n",
            "\u001b[01;34mBiocVersion\u001b[0m/   \u001b[01;34mfastDummies\u001b[0m/  \u001b[01;34mIRkernel\u001b[0m/     \u001b[01;34mnumDeriv\u001b[0m/    \u001b[01;34mRcppArmadillo\u001b[0m/  \u001b[01;34mrsvg\u001b[0m/\n",
            "\u001b[01;34mcausaleffect\u001b[0m/  \u001b[01;34mfastICA\u001b[0m/      \u001b[01;34mjsonlite\u001b[0m/     \u001b[01;34mPAGId\u001b[0m/       \u001b[01;34mRcppEigen\u001b[0m/      \u001b[01;34mR.utils\u001b[0m/\n",
            "\u001b[01;34mCCP\u001b[0m/           \u001b[01;34mggm\u001b[0m/          \u001b[01;34mlavaan\u001b[0m/       \u001b[01;34mpbdZMQ\u001b[0m/      \u001b[01;34mrepr\u001b[0m/           \u001b[01;34msfsmisc\u001b[0m/\n"
          ]
        }
      ],
      "source": [
        "%ls \"/usr/local/lib/R/site-library/\""
      ]
    },
    {
      "cell_type": "markdown",
      "metadata": {
        "id": "CE4Pf6tFiTrm"
      },
      "source": [
        "### Installing additional required packages"
      ]
    },
    {
      "cell_type": "code",
      "execution_count": 6,
      "metadata": {
        "id": "luhN6g-3O6iK",
        "colab": {
          "base_uri": "https://localhost:8080/"
        },
        "outputId": "4e9b730e-3b41-4b16-d74e-23a4923b28db",
        "collapsed": true
      },
      "outputs": [
        {
          "output_type": "stream",
          "name": "stderr",
          "text": [
            "WARNING:rpy2.rinterface_lib.callbacks:R[write to console]: Installing package into ‘/usr/local/lib/R/site-library’\n",
            "(as ‘lib’ is unspecified)\n",
            "\n",
            "WARNING:rpy2.rinterface_lib.callbacks:R[write to console]: trying URL 'https://cran.rstudio.com/src/contrib/rsvg_2.6.1.tar.gz'\n",
            "\n",
            "WARNING:rpy2.rinterface_lib.callbacks:R[write to console]: Content type 'application/x-gzip'\n",
            "WARNING:rpy2.rinterface_lib.callbacks:R[write to console]:  length 259999 bytes (253 KB)\n",
            "\n",
            "WARNING:rpy2.rinterface_lib.callbacks:R[write to console]: =\n",
            "WARNING:rpy2.rinterface_lib.callbacks:R[write to console]: =\n",
            "WARNING:rpy2.rinterface_lib.callbacks:R[write to console]: =\n",
            "WARNING:rpy2.rinterface_lib.callbacks:R[write to console]: =\n",
            "WARNING:rpy2.rinterface_lib.callbacks:R[write to console]: =\n",
            "WARNING:rpy2.rinterface_lib.callbacks:R[write to console]: =\n",
            "WARNING:rpy2.rinterface_lib.callbacks:R[write to console]: =\n",
            "WARNING:rpy2.rinterface_lib.callbacks:R[write to console]: =\n",
            "WARNING:rpy2.rinterface_lib.callbacks:R[write to console]: =\n",
            "WARNING:rpy2.rinterface_lib.callbacks:R[write to console]: =\n",
            "WARNING:rpy2.rinterface_lib.callbacks:R[write to console]: =\n",
            "WARNING:rpy2.rinterface_lib.callbacks:R[write to console]: =\n",
            "WARNING:rpy2.rinterface_lib.callbacks:R[write to console]: =\n",
            "WARNING:rpy2.rinterface_lib.callbacks:R[write to console]: =\n",
            "WARNING:rpy2.rinterface_lib.callbacks:R[write to console]: =\n",
            "WARNING:rpy2.rinterface_lib.callbacks:R[write to console]: =\n",
            "WARNING:rpy2.rinterface_lib.callbacks:R[write to console]: =\n",
            "WARNING:rpy2.rinterface_lib.callbacks:R[write to console]: =\n",
            "WARNING:rpy2.rinterface_lib.callbacks:R[write to console]: =\n",
            "WARNING:rpy2.rinterface_lib.callbacks:R[write to console]: =\n",
            "WARNING:rpy2.rinterface_lib.callbacks:R[write to console]: =\n",
            "WARNING:rpy2.rinterface_lib.callbacks:R[write to console]: =\n",
            "WARNING:rpy2.rinterface_lib.callbacks:R[write to console]: =\n",
            "WARNING:rpy2.rinterface_lib.callbacks:R[write to console]: =\n",
            "WARNING:rpy2.rinterface_lib.callbacks:R[write to console]: =\n",
            "WARNING:rpy2.rinterface_lib.callbacks:R[write to console]: =\n",
            "WARNING:rpy2.rinterface_lib.callbacks:R[write to console]: =\n",
            "WARNING:rpy2.rinterface_lib.callbacks:R[write to console]: =\n",
            "WARNING:rpy2.rinterface_lib.callbacks:R[write to console]: =\n",
            "WARNING:rpy2.rinterface_lib.callbacks:R[write to console]: =\n",
            "WARNING:rpy2.rinterface_lib.callbacks:R[write to console]: =\n",
            "WARNING:rpy2.rinterface_lib.callbacks:R[write to console]: =\n",
            "WARNING:rpy2.rinterface_lib.callbacks:R[write to console]: =\n",
            "WARNING:rpy2.rinterface_lib.callbacks:R[write to console]: =\n",
            "WARNING:rpy2.rinterface_lib.callbacks:R[write to console]: =\n",
            "WARNING:rpy2.rinterface_lib.callbacks:R[write to console]: =\n",
            "WARNING:rpy2.rinterface_lib.callbacks:R[write to console]: =\n",
            "WARNING:rpy2.rinterface_lib.callbacks:R[write to console]: =\n",
            "WARNING:rpy2.rinterface_lib.callbacks:R[write to console]: =\n",
            "WARNING:rpy2.rinterface_lib.callbacks:R[write to console]: =\n",
            "WARNING:rpy2.rinterface_lib.callbacks:R[write to console]: =\n",
            "WARNING:rpy2.rinterface_lib.callbacks:R[write to console]: =\n",
            "WARNING:rpy2.rinterface_lib.callbacks:R[write to console]: =\n",
            "WARNING:rpy2.rinterface_lib.callbacks:R[write to console]: =\n",
            "WARNING:rpy2.rinterface_lib.callbacks:R[write to console]: =\n",
            "WARNING:rpy2.rinterface_lib.callbacks:R[write to console]: =\n",
            "WARNING:rpy2.rinterface_lib.callbacks:R[write to console]: =\n",
            "WARNING:rpy2.rinterface_lib.callbacks:R[write to console]: =\n",
            "WARNING:rpy2.rinterface_lib.callbacks:R[write to console]: =\n",
            "WARNING:rpy2.rinterface_lib.callbacks:R[write to console]: =\n",
            "WARNING:rpy2.rinterface_lib.callbacks:R[write to console]: \n",
            "\n",
            "WARNING:rpy2.rinterface_lib.callbacks:R[write to console]: downloaded 253 KB\n",
            "\n",
            "\n",
            "WARNING:rpy2.rinterface_lib.callbacks:R[write to console]: \n",
            "\n",
            "WARNING:rpy2.rinterface_lib.callbacks:R[write to console]: \n",
            "WARNING:rpy2.rinterface_lib.callbacks:R[write to console]: The downloaded source packages are in\n",
            "\t‘/tmp/RtmpAyzXB3/downloaded_packages’\n",
            "WARNING:rpy2.rinterface_lib.callbacks:R[write to console]: \n",
            "WARNING:rpy2.rinterface_lib.callbacks:R[write to console]: \n",
            "\n"
          ]
        }
      ],
      "source": [
        "%%R\n",
        "suppressWarnings(install.packages('rsvg', verbose=FALSE))\n"
      ]
    },
    {
      "cell_type": "markdown",
      "metadata": {
        "id": "xI_4aF_XeEc-"
      },
      "source": [
        "### Loading libraries"
      ]
    },
    {
      "cell_type": "code",
      "execution_count": 7,
      "metadata": {
        "id": "bP8FEZefeDaG",
        "colab": {
          "base_uri": "https://localhost:8080/"
        },
        "outputId": "f0e78b49-cff6-4e92-b80f-83038851cbe7"
      },
      "outputs": [
        {
          "output_type": "stream",
          "name": "stderr",
          "text": [
            "WARNING:rpy2.rinterface_lib.callbacks:R[write to console]: Linking to librsvg 2.52.5\n",
            "\n"
          ]
        }
      ],
      "source": [
        "%%R\n",
        "\n",
        "library(pcalg, warn.conflicts=F, quietly=T)\n",
        "library(dagitty, warn.conflicts=F, quietly=T)\n",
        "library(MASS, warn.conflicts=F, quietly=T)\n",
        "library(causaleffect, warn.conflicts=F, quietly=T)\n",
        "library(igraph, warn.conflicts=F, quietly=T)\n",
        "library(DOT, warn.conflicts=F, quietly=T)\n",
        "library(devtools, warn.conflicts=F, quietly=T)\n",
        "library(rsvg, warn.conflicts=F, quietly=T)"
      ]
    },
    {
      "cell_type": "markdown",
      "metadata": {
        "id": "kpfPSf_A0zlE"
      },
      "source": [
        "### Helper Functions"
      ]
    },
    {
      "cell_type": "code",
      "execution_count": 8,
      "metadata": {
        "id": "tQtNBime0qyH"
      },
      "outputs": [],
      "source": [
        "%%R\n",
        "\n",
        "####################\n",
        "# Helper Functions #\n",
        "####################\n",
        "\n",
        "# A <- f(Ua) = Ua\n",
        "# D <- f(Ucd, Ud) = beta_D.Ucd * Ucd + Ud\n",
        "# B <- f(A, D, Ub) = beta_B.A * A - beta_B.D * D + Ub\n",
        "# C <- f(Ucd, B, Uc) = beta_C.B * B - beta_C.Ucd * Ucd + Uc\n",
        "# betaList is a list with entries for:\n",
        "# beta_D.Ucd, beta_B.A, beta_B.D, beta_C.Ucd, and beta_C.B\n",
        "# if betaList is NULL, then coefficients are randomly selected\n",
        "getIVSEM <- function(betaList=NULL) {\n",
        "  allvars <- c(\"A\", \"B\", \"C\", \"D\", \"Ucd\")\n",
        "  p <- length(allvars)\n",
        "  beta <- matrix(0, p, p)\n",
        "  colnames(beta) <- rownames(beta) <- allvars\n",
        "  topolOrd <- c( \"Ucd\", \"A\", \"D\", \"B\", \"C\")\n",
        "\n",
        "  if (is.null(betaList)) {\n",
        "    betaList <- as.list(sample(c(-1, 1), p, replace = T) * runif(p, 0.3, 0.7))\n",
        "    names(betaList) <- c(\"beta_D.Ucd\", \"beta_B.A\", \"beta_B.D\", \"beta_C.Ucd\", \"beta_C.B\")\n",
        "  }\n",
        "\n",
        "  beta[\"Ucd\",\"D\"] <- betaList$beta_D.Ucd; # coeff of Ucd in the function for d\n",
        "  beta[\"A\", \"B\"] <- betaList$beta_B.A; # coeff of a in the function for b\n",
        "  beta[\"D\", \"B\"] <- betaList$beta_B.D; # coeff of d in the function for b\n",
        "  beta[\"Ucd\", \"C\"] <- betaList$beta_C.Ucd; # coeff of Ucd in the function for c\n",
        "  beta[\"B\", \"C\"] <- betaList$beta_C.B; # coeff of b in the function for c\n",
        "\n",
        "  # Note that beta is triangular, implying that the SEM is recursive (or acyclic)\n",
        "  beta <- beta[topolOrd, topolOrd]\n",
        "  lat <- c(\"Ucd\")\n",
        "\n",
        "  return(list(beta=beta, lat=lat))\n",
        "}\n",
        "\n",
        "# A -> B -> C; B <- D <- Ucd -> C\n",
        "getIVGraph <- function() {\n",
        "  allvars <- c(\"A\", \"B\", \"C\", \"D\", \"Uab\", \"Ucd\")\n",
        "  p <- length(allvars)\n",
        "  amat <- matrix(0, p, p)\n",
        "  colnames(amat) <- rownames(amat) <- allvars\n",
        "  amat[\"Uab\",\"A\"] <- 0; amat[\"A\",\"Uab\"] <- 1; # Uab -> a\n",
        "  amat[\"Uab\",\"B\"] <- 0; amat[\"B\",\"Uab\"] <- 1; # Uab -> b\n",
        "  amat[\"B\",\"C\"] <- 0; amat[\"C\",\"B\"] <- 1; # b -> c\n",
        "  amat[\"D\",\"B\"] <- 0; amat[\"B\",\"D\"] <- 1; # d -> b\n",
        "  amat[\"Ucd\",\"C\"] <- 0; amat[\"C\",\"Ucd\"] <- 1; # Ucd -> c\n",
        "  amat[\"Ucd\",\"D\"] <- 0; amat[\"D\",\"Ucd\"] <- 1; # Ucd -> c\n",
        "\n",
        "  lat <- c(\"Uab\", \"Ucd\")\n",
        "  adag <- pcalg::pcalg2dagitty(amat, colnames(amat), type=\"dag\")\n",
        "  dagitty::latents(adag) <- lat\n",
        "  coordinates(adag) <- list( x=c(A=0.5, Uab=0.65, B=0.80, C=1, D=0.88, Ucd=1),\n",
        "                        y=c(A=0.15, Uab=0.05, B=0.15, C=0.15, D=0, Ucd=0) )\n",
        "\n",
        "\n",
        "  idag <- igraph_from_graphNel(as(t(amat), \"graphNEL\"), lat)\n",
        "\n",
        "  return(list(amat.dagitty = adag, # adjacency matrix as a dagitty object\n",
        "              amat.igraph = idag, # adjacency matrix as an igraph object\n",
        "              amat.pcalg = amat  # adjacency matrix as a matrix using pcalg notation\n",
        "              ))\n",
        "}\n",
        "\n",
        "# The SEM is constructed as\n",
        "# Y = B Y + eps, where B == beta\n",
        "# beta is a matrix of the coefficients for all variables (V and U)\n",
        "# Y = BY + eps --> Y - BY = eps --> (I - B)Y = eps --> Y = (I -B)^{-1} eps\n",
        "generateDatasetFromSEM <- function(beta, lat, N) {\n",
        "  p <- ncol(beta)\n",
        "  ident <- diag(1, p, p)\n",
        "  colnames(ident) <- rownames(ident) <- colnames(beta)\n",
        "  # Or, similarly,\n",
        "  # Y = (I - Beta)^{-1} eps.\n",
        "  # For Gaussian Y and errors eps independent from each other (we have all the Us),\n",
        "  # we just need to simulate Y from a multivariate distribution\n",
        "  # of mean zero and cov Sigma=I\n",
        "  IminusBinv <- ginv(ident - beta)\n",
        "  Sigma = t(IminusBinv) %*% ident %*% IminusBinv\n",
        "\n",
        "  valR <- matrixcalc::is.symmetric.matrix(Sigma) &&\n",
        "    matrixcalc::is.positive.definite(Sigma, tol=1e-8)\n",
        "  if (!valR) {\n",
        "    stop(\"This SEM generates a non-positive definite covariance matrix. Try another SEM.\")\n",
        "  }\n",
        "\n",
        "  dat <-  MASS::mvrnorm(N, rep(0, p), Sigma, empirical = FALSE)\n",
        "  dat <- as.data.frame(dat)\n",
        "  colnames(dat) <- colnames(beta)\n",
        "  head(dat)\n",
        "\n",
        "  uvars <- which(colnames(dat) %in% lat)\n",
        "  dat <- dat[,-uvars]\n",
        "\n",
        "  return(dat)\n",
        "}\n",
        "\n",
        "# Randomly generate a linear SEM following a dagitty DAG, adag,\n",
        "# and then draw samples from it.\n",
        "generateDatasetFromDAG <- function(adag, N, ntries=30) {\n",
        "  done <- FALSE\n",
        "  tries <- 0\n",
        "  obs.dat <- NULL\n",
        "  while (!done && tries <= ntries) {\n",
        "    done <- tryCatch(\n",
        "      {\n",
        "        obs.dat <- dagitty::simulateSEM(adag, b.lower = -0.6, b.upper = 0.6, N=N)\n",
        "        R <- cor(obs.dat)\n",
        "        valR <- matrixcalc::is.symmetric.matrix(R) &&\n",
        "          matrixcalc::is.positive.definite(R, tol=1e-8)\n",
        "        valR\n",
        "      }, error=function(cond) {\n",
        "        message(cond)\n",
        "        FALSE\n",
        "      })\n",
        "    tries <- tries + 1\n",
        "  }\n",
        "  return(obs.dat)\n",
        "}\n",
        "\n",
        "dagittyOracleCI <- function(x, y, S, suffStat) {\n",
        "  g <- suffStat$g\n",
        "  labels <- names(g)\n",
        "  if (dagitty::dseparated(g, labels[x], labels[y], labels[S])) {\n",
        "    return(1)\n",
        "  } else {\n",
        "    return(0)\n",
        "  }\n",
        "}\n",
        "\n",
        "# receives a dagitty g of type \"dag\" or \"mag\" and returns\n",
        "# the true PAG as an pcalg fci object\n",
        "getTruePAG <- function(g, verbose = FALSE) {\n",
        "  indepTest <- dagittyOracleCI\n",
        "  if (graphType(g) == \"dag\") {\n",
        "    g <- dagitty::toMAG(g)\n",
        "  }\n",
        "  suffStat <- list(g=g)\n",
        "  truePag <- pcalg::fci(suffStat,\n",
        "                        indepTest = indepTest,\n",
        "                        labels= names(suffStat$g), alpha = 0.9999,\n",
        "                        verbose = verbose)\n",
        "  return(truePag)\n",
        "}\n",
        "\n",
        "\n",
        "\n",
        "# n: number of nodes\n",
        "# e_prob: probability of having an edge between any two nodes\n",
        "# l_prob: proportion of the nodes to be considered latent (unmeasured variables)\n",
        "getRandomGraph <- function(n, e_prob, l_prob, force_nedges=TRUE)  {\n",
        "  if (force_nedges) {\n",
        "    min_nedges <- floor((n*(n-1)/2)*(e_prob * 1))\n",
        "  } else {\n",
        "    min_nedges <- 0\n",
        "  }\n",
        "  nedges <- 0\n",
        "  while (nedges <= min_nedges) {\n",
        "    dag <- pcalg::randomDAG(n, e_prob, V = paste0(\"V\", sprintf(\n",
        "      paste0(\"%0\", nchar(n), \"d\"), seq(from = 1, to = n))))\n",
        "\n",
        "    amat.dag <- (as(dag, \"matrix\") > 0) * 1\n",
        "    adag <- pcalg::pcalg2dagitty(amat.dag, colnames(amat.dag), type=\"dag\")\n",
        "    lat <- sample(colnames(amat.dag), l_prob * n)\n",
        "\n",
        "    dagitty::latents(adag) <- lat\n",
        "\n",
        "    magg <- dagitty::toMAG(adag)\n",
        "    nedges <- nrow(edges(magg))\n",
        "  }\n",
        "\n",
        "  return(adag)\n",
        "}\n",
        "\n",
        "renderDAG <- function(amat, output_folder=NULL, fileid=NULL, type=\"png\",\n",
        "                     width=NULL, height=NULL, labels=NULL, add_index=TRUE) {\n",
        "  amat.ag <- amat\n",
        "  for (i in 1:ncol(amat.ag )) {\n",
        "      for (j in 1:(ncol(amat.ag ))) {\n",
        "          if (amat.ag [i,j] == 1 && amat.ag [j, i] == 0) {\n",
        "              # j -> i\n",
        "              amat.ag [j,i] <- 2\n",
        "              amat.ag [i,j] <- 3\n",
        "          }\n",
        "      }\n",
        "  }\n",
        "  renderAG(amat.ag, output_folder, fileid, type, width, height, labels,\n",
        "           add_index)\n",
        "}\n",
        "\n",
        "# types can be: png, pdf, or svg\n",
        "#' @importFrom rsvg rsvg_png\n",
        "#' @importFrom DOT dot\n",
        "#' @export renderAG\n",
        "renderAG <- function(amat, output_folder=NULL, fileid=NULL, type=\"png\",\n",
        "                     width=NULL, height=NULL, labels=NULL, add_index=TRUE) {\n",
        "  if (is.null(labels)) {\n",
        "    labels <- colnames(amat)\n",
        "  }\n",
        "\n",
        "  if (is.null(output_folder)) {\n",
        "    output_folder = \"./tmp/\"\n",
        "  }\n",
        "\n",
        "  if (!file.exists(output_folder)) {\n",
        "    dir.create(output_folder, recursive = TRUE)\n",
        "  }\n",
        "\n",
        "  if (is.null(fileid)) {\n",
        "    fileid <- \"ag\"\n",
        "  }\n",
        "\n",
        "  if (type == \"png\") {\n",
        "    png_filename <- paste0(output_folder, fileid, \".png\")\n",
        "    if (is.null(width)) {\n",
        "      width = 1024\n",
        "    }\n",
        "    if (is.null(height)) {\n",
        "      height = 1024\n",
        "    }\n",
        "  } else if (type == \"pdf\") {\n",
        "    pdf_filename <- paste0(output_folder, fileid, \".pdf\")\n",
        "    if (is.null(width)) {\n",
        "      width = 5\n",
        "    }\n",
        "    if (is.null(height)) {\n",
        "      height = 5\n",
        "    }\n",
        "  }\n",
        "\n",
        "  dot_filename <- paste0(output_folder, fileid, \".dot\")\n",
        "  svg_filename <- paste0(output_folder, fileid, \".svg\")\n",
        "\n",
        "  graphFile <- file(dot_filename, \"w\")\n",
        "  cat('digraph graphname {', file=graphFile)\n",
        "  cat('node [shape = oval];\\n', file=graphFile)\n",
        "\n",
        "  formatted_labels <- labels\n",
        "  if (add_index) {\n",
        "    formatted_labels <- paste0(formatted_labels, \"_\", 1:length(labels))\n",
        "  }\n",
        "\n",
        "  for (v in formatted_labels) {\n",
        "    cat(v, \"[label=\", v, \"]\\n\", file=graphFile)\n",
        "  }\n",
        "\n",
        "  # For each row:\n",
        "  for (i in 1:(nrow(amat)-1)) {\n",
        "    # For each column:\n",
        "    for (j in (i+1):ncol(amat)) {\n",
        "      label_i <- formatted_labels[i]\n",
        "      label_j <- formatted_labels[j]\n",
        "\n",
        "      if (amat[i,j] > 0) {\n",
        "        cat(label_i, \"->\", label_j, \"[color=black, dir=both,\",  file=graphFile)\n",
        "        if (amat[i,j] == 1) {\n",
        "          cat(\"arrowhead=odot, \", file=graphFile)\n",
        "        } else if (amat[i,j] == 2) {\n",
        "          cat(\"arrowhead=normal, \", file=graphFile)\n",
        "        } else if (amat[i,j] == 3) {\n",
        "          cat(\"arrowhead=none, \", file=graphFile)\n",
        "        }\n",
        "\n",
        "        if (amat[j,i] == 1) {\n",
        "          cat(\"arrowtail=odot\", file=graphFile)\n",
        "        } else if (amat[j,i] == 2) {\n",
        "          cat(\"arrowtail=normal\", file=graphFile)\n",
        "        } else if (amat[j,i] == 3) {\n",
        "          cat(\"arrowtail=none\", file=graphFile)\n",
        "        }\n",
        "        cat(\"];\\n\", file=graphFile)\n",
        "      }\n",
        "    }\n",
        "  }\n",
        "  cat(\"}\\n\", file=graphFile)\n",
        "  close(graphFile)\n",
        "\n",
        "  DOT::dot(paste(readLines(dot_filename), collapse=\" \"), file=svg_filename)\n",
        "\n",
        "  if (type == \"png\") {\n",
        "    rsvg::rsvg_png(svg_filename, png_filename, width = 1024, height = 1024)\n",
        "  } else if (type == \"pdf\") {\n",
        "    rsvg::rsvg_pdf(svg_filename, pdf_filename, width = 5, height = 5)\n",
        "  }\n",
        "}\n",
        "\n",
        "igraph_from_graphNel <- function(graphN, latNodes){\n",
        "  igraph_dag <- igraph::igraph.from.graphNEL(graphN, weight = FALSE)\n",
        "  for (n in latNodes) {\n",
        "    adj_list <- graphN@edgeL[[n]]$edges\n",
        "    if (length(adj_list) == 2) {\n",
        "      igraph_dag <- igraph::add_edges(igraph_dag, c(adj_list[1], adj_list[2], adj_list[2], adj_list[1]))\n",
        "      igraph_dag <- igraph::set.edge.attribute(graph = igraph_dag,\n",
        "                                               name =\"description\",\n",
        "                                               index = c(length(igraph::E(igraph_dag))-1, length(igraph::E(igraph_dag))), value = \"U\")\n",
        "    }\n",
        "  }\n",
        "  for (n in latNodes){\n",
        "    igraph_dag <- igraph::delete_vertices(igraph_dag, n)\n",
        "  }\n",
        "  return(igraph_dag)\n",
        "}\n",
        "\n",
        "# returns an pcalg amat (adjacency matrix) of\n",
        "# type amat.pag (same type for MAGs), where:\n",
        "# 0: No edge\n",
        "# 1: Circle\n",
        "# 2: Arrowhead\n",
        "# 3: Tail\n",
        "dagitty2amat <- function(adagg, type=\"mag\") {\n",
        "  edg <- dagitty:::edges(adagg)\n",
        "  node_names <- dagitty:::names.dagitty(adagg)\n",
        "  ans_mat <- matrix(\n",
        "    data = 0, nrow = length(node_names),\n",
        "    ncol = length(node_names),\n",
        "    dimnames = list(node_names, node_names)\n",
        "  )\n",
        "\n",
        "  diredg <- subset(edg, e == \"->\")\n",
        "\n",
        "  ans_mat[as.matrix(diredg[c(\"w\", \"v\")])] <- 3\n",
        "  ans_mat[as.matrix(diredg[c(\"v\", \"w\")])] <- 2\n",
        "\n",
        "  bidiredg <-  subset(edg, e == \"<->\")\n",
        "  ans_mat[as.matrix(bidiredg[c(\"w\", \"v\")])] <- 2\n",
        "  ans_mat[as.matrix(bidiredg[c(\"v\", \"w\")])] <- 2\n",
        "\n",
        "  return(ans_mat)\n",
        "}\n",
        "\n"
      ]
    },
    {
      "cell_type": "markdown",
      "metadata": {
        "id": "Ae5hWPhOeNjC"
      },
      "source": [
        "## **Part I: Causal Modeling**"
      ]
    },
    {
      "cell_type": "code",
      "source": [
        "%%R\n",
        "# Defining true underlying model -- typically unknown\n",
        "\n",
        "# A -> B -> C; B <- D <- Ucd -> C\n",
        "\n",
        "allvars <- c(\"A\", \"B\", \"C\", \"D\", \"Uab\", \"Ucd\")\n",
        "p <- length(allvars)\n",
        "amat <- matrix(0, p, p)\n",
        "colnames(amat) <- rownames(amat) <- allvars\n",
        "amat[\"Uab\",\"A\"] <- 0; amat[\"A\",\"Uab\"] <- 1; # Uab -> a\n",
        "amat[\"Uab\",\"B\"] <- 0; amat[\"B\",\"Uab\"] <- 1; # Uab -> b\n",
        "amat[\"B\",\"C\"] <- 0; amat[\"C\",\"B\"] <- 1; # b -> c\n",
        "amat[\"D\",\"B\"] <- 0; amat[\"B\",\"D\"] <- 1; # d -> b\n",
        "amat[\"Ucd\",\"C\"] <- 0; amat[\"C\",\"Ucd\"] <- 1; # Ucd -> c\n",
        "amat[\"Ucd\",\"D\"] <- 0; amat[\"D\",\"Ucd\"] <- 1; # Ucd -> c\n",
        "\n",
        "# Adjacency Matrix\n",
        "# print(amat)\n",
        "\n",
        "# Generating DAG image\n",
        "renderDAG(amat, fileid = \"trueDAG\", add_index = FALSE)"
      ],
      "metadata": {
        "id": "30QtRppBnQQC"
      },
      "execution_count": 9,
      "outputs": []
    },
    {
      "cell_type": "code",
      "source": [
        "from IPython.display import Image\n",
        "Image('tmp/trueDAG.png', width=400, height=400)"
      ],
      "metadata": {
        "colab": {
          "base_uri": "https://localhost:8080/",
          "height": 417
        },
        "id": "zEt6geQtpWS5",
        "outputId": "0cbefd3c-2709-4c97-93d3-e8afd6f8596a"
      },
      "execution_count": 10,
      "outputs": [
        {
          "output_type": "execute_result",
          "data": {
            "image/png": "[encoded data removed]",
            "text/plain": [
              "<IPython.core.display.Image object>"
            ]
          },
          "metadata": {
            "image/png": {
              "width": 400,
              "height": 400
            }
          },
          "execution_count": 10
        }
      ]
    },
    {
      "cell_type": "code",
      "source": [
        "%%R\n",
        "\n",
        "# Specifying our DAG as a dagitty object\n",
        "\n",
        "lat <- c(\"Uab\", \"Ucd\")\n",
        "trueDAG <- pcalg::pcalg2dagitty(amat, colnames(amat), type=\"dag\")\n",
        "dagitty::latents(trueDAG) <- lat\n",
        "\n",
        "\n",
        "# In case you want to plot using dagitty:\n",
        "# coordinates(adag) <- list( x=c(A=0.5, Uab=0.65, B=0.80, C=1, D=0.88, Ucd=1),\n",
        "#                      y=c(A=0.15, Uab=0.05, B=0.15, C=0.15, D=0, Ucd=0) )\n",
        "# plot(trueDAG) # showing the U variables\n",
        "\n",
        "\n",
        "# Specifying our DAG as a igraph object\n",
        "trueDiagram <- igraph_from_graphNel(as(t(amat), \"graphNEL\"), lat)"
      ],
      "metadata": {
        "id": "EEd3w98krbpf"
      },
      "execution_count": 11,
      "outputs": []
    },
    {
      "cell_type": "markdown",
      "metadata": {
        "id": "JftC6IdjgM-G"
      },
      "source": [
        "## **Part II: Markov Equivalence Class**"
      ]
    },
    {
      "cell_type": "markdown",
      "metadata": {
        "id": "WTSL5rTZgYbM"
      },
      "source": [
        "#### Implied Conditional Independencies\n",
        "\n",
        "The true causal diagram implies, through d-separations, all and only conditional independencies (among observed variables) implied by the true SCM.\n",
        "\n"
      ]
    },
    {
      "cell_type": "code",
      "execution_count": 12,
      "metadata": {
        "id": "O_ZbXspvgaRu",
        "colab": {
          "base_uri": "https://localhost:8080/"
        },
        "outputId": "4c87f8bc-c1da-4ba3-87a5-e08bed1f561d"
      },
      "outputs": [
        {
          "output_type": "stream",
          "name": "stdout",
          "text": [
            "A _||_ C | B, D\n",
            "A _||_ D\n"
          ]
        }
      ],
      "source": [
        "%%R\n",
        "trueMAG <- dagitty::toMAG(trueDAG)\n",
        "trueImpliedCI <- dagitty::impliedConditionalIndependencies(trueMAG, type = \"missing.edge\")\n",
        "trueImpliedCI"
      ]
    },
    {
      "cell_type": "markdown",
      "metadata": {
        "id": "8xrSStzSgfWP"
      },
      "source": [
        "#### Partial Ancestral Graph (PAG)\n",
        "\n",
        "A Partial Ancestral Graph (PAG) represents the class of all statistically equivalent causal models, i.e., those implying exactly the same set of conditional independencies."
      ]
    },
    {
      "cell_type": "code",
      "execution_count": 13,
      "metadata": {
        "id": "YF54fEZzgmXw"
      },
      "outputs": [],
      "source": [
        "%%R\n",
        "\n",
        "truePAG <- getTruePAG(trueDAG, verbose = FALSE)"
      ]
    },
    {
      "cell_type": "markdown",
      "metadata": {
        "id": "rQazV7RCgm3Z"
      },
      "source": [
        "Plotting the true PAG"
      ]
    },
    {
      "cell_type": "code",
      "execution_count": 14,
      "metadata": {
        "id": "5ZPXpR4Cgqj4"
      },
      "outputs": [],
      "source": [
        "%%R\n",
        "\n",
        "#plot(truePAG)\n",
        "renderAG(truePAG@amat, fileid = \"truePAG\", add_index = FALSE)"
      ]
    },
    {
      "cell_type": "code",
      "source": [
        "from IPython.display import Image\n",
        "Image('tmp/truePAG.png', width=400, height=400)"
      ],
      "metadata": {
        "colab": {
          "base_uri": "https://localhost:8080/",
          "height": 417
        },
        "id": "Cfw5hEObwcJ6",
        "outputId": "7e82c8c0-552f-4db3-eebc-4531fd79e716"
      },
      "execution_count": 15,
      "outputs": [
        {
          "output_type": "execute_result",
          "data": {
            "image/png": "[encoded data removed]",
            "text/plain": [
              "<IPython.core.display.Image object>"
            ]
          },
          "metadata": {
            "image/png": {
              "width": 400,
              "height": 400
            }
          },
          "execution_count": 15
        }
      ]
    },
    {
      "cell_type": "markdown",
      "source": [
        "## **Part III: Causal Discovery**"
      ],
      "metadata": {
        "id": "0faY6hF07rl7"
      }
    },
    {
      "cell_type": "markdown",
      "metadata": {
        "id": "AeHGHyRQgrj9"
      },
      "source": [
        "### Data Generation from the True Diagram\n",
        "\n",
        "We are generating N=10000 samples."
      ]
    },
    {
      "cell_type": "code",
      "source": [
        "%%R\n",
        "\n",
        "seed <- sample(1:2^15, 1)\n",
        "print(seed)\n",
        "\n",
        "set.seed(17876) # Good for N = 50000\n",
        "\n",
        "N = 50000\n",
        "dat <- generateDatasetFromDAG(trueDAG, N)\n",
        "head(dat) #"
      ],
      "metadata": {
        "colab": {
          "base_uri": "https://localhost:8080/"
        },
        "id": "-4eIDEGO1JzS",
        "outputId": "f85ce3db-0ac7-4150-ff46-750ae1b83bc9"
      },
      "execution_count": 16,
      "outputs": [
        {
          "output_type": "stream",
          "name": "stdout",
          "text": [
            "[1] 7615\n",
            "            A          B           C          D\n",
            "1  0.06803594  1.6212072  0.55572349  0.2907695\n",
            "2 -0.18152229 -0.1968323 -0.58312688 -0.1395954\n",
            "3 -0.24665251 -0.8222708 -0.61409294 -0.1019799\n",
            "4  0.90324959  2.5861567  1.45709180  1.2517536\n",
            "5 -1.11488461 -1.5108330 -1.58084231 -0.7343397\n",
            "6 -0.46346801 -1.5011062 -0.01141822 -0.4476319\n"
          ]
        }
      ]
    },
    {
      "cell_type": "markdown",
      "metadata": {
        "id": "m3b3atKOgxpv"
      },
      "source": [
        "### Inferring the PAG using FCI Algorithm\n",
        "\n",
        "Since our variables follow a Gaussian distribution, the partial correlation test (Fisher's Z test) can be used to assess conditional independencies.\n",
        "\n",
        "For other data types, appropriate conditional independence tests should be used.\n"
      ]
    },
    {
      "cell_type": "code",
      "execution_count": 17,
      "metadata": {
        "id": "2iITvdtrg0DH"
      },
      "outputs": [],
      "source": [
        "%%R\n",
        "\n",
        "indepTest <- pcalg::gaussCItest    # Fisher's Z test\n",
        "alpha <- 0.05                      # Significance level of 5%\n",
        "suffStat <- list(C = cor(dat), n = N)\n",
        "estPAG <- pcalg::fci(suffStat,\n",
        "                     indepTest = indepTest,\n",
        "                     labels= colnames(dat), alpha = alpha,\n",
        "                     verbose = FALSE)\n",
        "#plot(estPAG)\n",
        "renderAG(estPAG@amat, fileid = \"estimatedPAG\", add_index = FALSE)"
      ]
    },
    {
      "cell_type": "markdown",
      "metadata": {
        "id": "MUsbvlBpg2AK"
      },
      "source": [
        "Plotting the estimated PAG"
      ]
    },
    {
      "cell_type": "code",
      "source": [
        "from IPython.display import Image\n",
        "Image('tmp/estimatedPAG.png', width=400, height=400)"
      ],
      "metadata": {
        "colab": {
          "base_uri": "https://localhost:8080/",
          "height": 417
        },
        "id": "8Wvgvnaxwhir",
        "outputId": "2b4df3a4-48b4-4312-e3ee-14d55d08a645"
      },
      "execution_count": 18,
      "outputs": [
        {
          "output_type": "execute_result",
          "data": {
            "image/png": "[encoded data removed]",
            "text/plain": [
              "<IPython.core.display.Image object>"
            ]
          },
          "metadata": {
            "image/png": {
              "width": 400,
              "height": 400
            }
          },
          "execution_count": 18
        }
      ]
    },
    {
      "cell_type": "markdown",
      "metadata": {
        "id": "5KxYYm5xg9AX"
      },
      "source": [
        "### Questions:\n",
        "\n",
        "1.  Did we recover the correct PAG?\n",
        "2.  What the inferred PAG tell us about the relationship between every pair of nodes?\n",
        "3.  Is the true causal diagram a member of the PAG's Markov Equivalence Class?\n",
        "4.  What can it happen with a smaller sample size?\n"
      ]
    },
    {
      "cell_type": "markdown",
      "source": [
        "##**Part IV: Causal Effect Identification**"
      ],
      "metadata": {
        "id": "i-4EywqD7Hj7"
      }
    },
    {
      "cell_type": "markdown",
      "metadata": {
        "id": "g_2oFDRKfu5J"
      },
      "source": [
        "### Effect Identification given a Causal Diagram\n"
      ]
    },
    {
      "cell_type": "markdown",
      "metadata": {
        "id": "VHg0qQuIii0_"
      },
      "source": [
        "#### Identification via Adjustment given a Causal Diagram\n",
        "\n",
        "Checking identifiability of P(y\\|do(x)) through generalized adjustment criterion (GAC)."
      ]
    },
    {
      "cell_type": "code",
      "execution_count": 19,
      "metadata": {
        "id": "ZFfZSNzsfx2x",
        "colab": {
          "base_uri": "https://localhost:8080/"
        },
        "outputId": "4798b864-28ab-4d55-f2cc-2867886e03d2"
      },
      "outputs": [
        {
          "output_type": "stream",
          "name": "stdout",
          "text": [
            "[1] \"P(C|do(B)) is identifiable via adjustment over:\"\n",
            "[1] \"D\"   \"A,D\"\n"
          ]
        }
      ],
      "source": [
        "%%R\n",
        "\n",
        "x = 2 # index of variable \"B\"\n",
        "y = 3 # index of variable \"C\"\n",
        "\n",
        "trueMAG <- dagitty::toMAG(trueDAG) # graphical model without the latent confounders\n",
        "                                   # we will see this later\n",
        "\n",
        "trueMAG.pcalg <- dagitty2amat(trueMAG, type=\"mag\")\n",
        "labels <- colnames(trueMAG.pcalg)\n",
        "\n",
        "adj <- pcalg::adjustment(amat = trueMAG.pcalg, amat.type = \"mag\",\n",
        "                  x = x, y = y, set.type = \"all\")\n",
        "if (length(adj) > 1) {\n",
        "  print(paste0(\"P(\", labels[y], \"|do(\", labels[x], \")) is identifiable via adjustment over:\"))\n",
        "  sapply(adj, function(x) { paste(labels[x], collapse=\",\") } ) # List of all sets admissible for adjustment\n",
        "} else {\n",
        "  print(paste0(\"P(\", y, \"|do(\", x, \")) is not identifiable via adjustment.\"))\n",
        "}\n",
        "\n"
      ]
    },
    {
      "cell_type": "markdown",
      "metadata": {
        "id": "Qj2MbhSif0Ss"
      },
      "source": [
        "Checking whether a particular set is admissible for adjustment."
      ]
    },
    {
      "cell_type": "code",
      "execution_count": 20,
      "metadata": {
        "id": "CrvO6mNZf3Zq",
        "colab": {
          "base_uri": "https://localhost:8080/"
        },
        "outputId": "20eafe07-c876-4188-ab90-8f64449c78d7"
      },
      "outputs": [
        {
          "output_type": "stream",
          "name": "stdout",
          "text": [
            "[1] \"Is the effect of B on C identifiable through adjustment over {A}? \"\n"
          ]
        }
      ],
      "source": [
        "%%R\n",
        "\n",
        "z <- c(1) # indices of the covariate set\n",
        "zlabels <- labels[z]\n",
        "print(paste0(\"Is the effect of \", labels[x], \" on \", labels[y], \" identifiable through adjustment over {\", paste(zlabels, collapse=\",\"), \"}? \"))\n"
      ]
    },
    {
      "cell_type": "code",
      "source": [
        "%%R\n",
        "\n",
        "gac_out <- pcalg::gac(trueMAG.pcalg, x, y, z, type = \"mag\")\n",
        "is_admissible <- gac_out$gac\n",
        "\n",
        "print(paste0(\"Answer: \", is_admissible))"
      ],
      "metadata": {
        "colab": {
          "base_uri": "https://localhost:8080/"
        },
        "id": "xgy9szrrV6tj",
        "outputId": "5b186cc2-a4c0-4583-9917-2ca0d175e8b2"
      },
      "execution_count": 21,
      "outputs": [
        {
          "output_type": "stream",
          "name": "stdout",
          "text": [
            "[1] \"Answer: FALSE\"\n"
          ]
        }
      ]
    },
    {
      "cell_type": "markdown",
      "metadata": {
        "id": "tg3IcuZqf8Ig"
      },
      "source": [
        "#### Identification via ID Algorithm given a Causal Diagram\n"
      ]
    },
    {
      "cell_type": "markdown",
      "metadata": {
        "id": "aCci3H2siwQB"
      },
      "source": [
        "##### Marginal Causal Effect"
      ]
    },
    {
      "cell_type": "code",
      "execution_count": 22,
      "metadata": {
        "id": "7G2pyHIIf99c",
        "colab": {
          "base_uri": "https://localhost:8080/"
        },
        "outputId": "f3afd9b0-1aa7-4f9b-9975-504333060199"
      },
      "outputs": [
        {
          "output_type": "stream",
          "name": "stdout",
          "text": [
            "[1] \"The marginal effect of B on C, P(C|do(B)), is identifiable via ID algorithm:\"\n",
            "[1] \"P(C|do(B)) = \\\\sum_{D}P(C|D,B)P(D)\"\n"
          ]
        }
      ],
      "source": [
        "%%R\n",
        "\n",
        "y = \"C\"\n",
        "x = \"B\" # Change to \"D\" to evaluate the effect of D on C\n",
        "\n",
        "print(paste0(\"The marginal effect of \", x, \" on \", y, \", P(\", y, \"|do(\", x, \")), is identifiable via ID algorithm:\"))\n",
        "\n",
        "exprDAG <- causaleffect::causal.effect(y=y, x=x, z=c(),\n",
        "                                       G = trueDiagram,\n",
        "                                       expr = TRUE,\n",
        "                                       simp = TRUE,\n",
        "                                       steps = FALSE)\n",
        "print(paste0(\"P(\", y, \"|do(\", x, \")) = \", exprDAG))\n",
        "# Note: to see all steps applied by the ID algorithm,\n",
        "# use expr = FALSE and steps = TRUE."
      ]
    },
    {
      "cell_type": "markdown",
      "metadata": {
        "id": "a09HZP4dgHmX"
      },
      "source": [
        "##### Conditional Causal Effect\n"
      ]
    },
    {
      "cell_type": "code",
      "execution_count": 23,
      "metadata": {
        "id": "a-sg7NRsgIE4",
        "colab": {
          "base_uri": "https://localhost:8080/"
        },
        "outputId": "ea2753ae-bbdb-48b2-e568-0c917db69b70"
      },
      "outputs": [
        {
          "output_type": "stream",
          "name": "stdout",
          "text": [
            "[1] \"The conditional effect of B on C conditional on D, P(C|do(B), D), is identifiable via ID algorithm:\"\n",
            "[1] \"P(C|do(B), D) = P(C|D,B)\"\n"
          ]
        }
      ],
      "source": [
        "%%R\n",
        "\n",
        "y = \"C\"\n",
        "x = \"B\"\n",
        "z = c(\"D\")\n",
        "\n",
        "print(paste0(\"The conditional effect of \", x, \" on \", y, \" conditional on \", z, \", P(\", y, \"|do(\", x, \"), \", z, \"), is identifiable via ID algorithm:\"))\n",
        "\n",
        "exprDAG <- causaleffect::causal.effect(y=y, x=x, z=z,\n",
        "                                       G = trueDiagram,\n",
        "                                       expr = TRUE,\n",
        "                                       simp = TRUE,\n",
        "                                       steps = FALSE)\n",
        "print(paste0(\"P(\", y, \"|do(\", x, \"), \", z, \") = \", exprDAG))"
      ]
    },
    {
      "cell_type": "markdown",
      "metadata": {
        "id": "M5PAo7WXgKh3"
      },
      "source": [
        "### **Questions:**\n",
        "\n",
        "1. Is the causal effect of D on C identifiable from the causal diagram? If so, how?\n",
        "2. What can we do if no knowledge is available to construct a causal diagram?\n",
        "\n"
      ]
    },
    {
      "cell_type": "markdown",
      "source": [
        "### Effect Identification from the Markov Equivalence Class"
      ],
      "metadata": {
        "id": "Om4Ehrjb8lcd"
      }
    },
    {
      "cell_type": "markdown",
      "metadata": {
        "id": "ajU-9rSDg_qH"
      },
      "source": [
        "\n",
        "\n",
        "#### Using the Generalized Adjustment Criterion (GAC)\n",
        "\n",
        "Checking identifiability of P(y\\|do(x)) through generalized adjustment criterion (GAC)."
      ]
    },
    {
      "cell_type": "code",
      "execution_count": 24,
      "metadata": {
        "id": "V6kXTTF0hBvI",
        "colab": {
          "base_uri": "https://localhost:8080/"
        },
        "outputId": "6a78947c-cb97-4c68-853b-5d5e40dcde3d"
      },
      "outputs": [
        {
          "output_type": "stream",
          "name": "stdout",
          "text": [
            "[1] \"P(C|do(B)) is identifiable via adjustment over:\"\n",
            "[1] \"D\"   \"A,D\"\n"
          ]
        }
      ],
      "source": [
        "%%R\n",
        "\n",
        "labels <- colnames(estPAG@amat)\n",
        "x = 2 # index of variable \"B\"\n",
        "y = 3 # index of variable \"C\"\n",
        "\n",
        "adj <- adjustment(amat = estPAG@amat, amat.type = \"pag\",\n",
        "                  x = x, y = y, set.type = \"all\")\n",
        "\n",
        "if (length(adj) > 1) {\n",
        "  print(paste0(\"P(\", labels[y], \"|do(\", labels[x], \")) is identifiable via adjustment over:\"))\n",
        "  sapply(adj, function(x) { paste(labels[x], collapse=\",\") } ) # List of all sets admissible for adjustment\n",
        "} else {\n",
        "  print(paste0(\"P(\", labels[y], \"|do(\", labels[x], \")) is not identifiable via adjustment.\"))\n",
        "}\n"
      ]
    },
    {
      "cell_type": "markdown",
      "metadata": {
        "id": "yu7b37XOhGcL"
      },
      "source": [
        "Checking whether a particular set is admissible for adjustment."
      ]
    },
    {
      "cell_type": "code",
      "execution_count": 25,
      "metadata": {
        "id": "2lKXgvXqhIZe",
        "colab": {
          "base_uri": "https://localhost:8080/"
        },
        "outputId": "56ef3c27-ee9a-420b-a474-c8696fce40a6"
      },
      "outputs": [
        {
          "output_type": "stream",
          "name": "stdout",
          "text": [
            "[1] \"Is the effect of B on C identifiable through adjustment over {A}? \"\n"
          ]
        }
      ],
      "source": [
        "%%R\n",
        "\n",
        "z <- c(1) # indices of the covariate set c(\"A\" \"B\" \"C\" \"D\")\n",
        "zlabels <- labels[z]\n",
        "print(paste0(\"Is the effect of \", labels[x], \" on \", labels[y], \" identifiable through adjustment over {\", paste(zlabels, collapse=\",\"), \"}? \"))\n"
      ]
    },
    {
      "cell_type": "code",
      "source": [
        "%%R\n",
        "\n",
        "gac_out <- gac(estPAG@amat, x, y, z, type = \"pag\")\n",
        "is_admissible <- gac_out$gac\n",
        "\n",
        "print(paste0(\"Answer: \", is_admissible))"
      ],
      "metadata": {
        "colab": {
          "base_uri": "https://localhost:8080/"
        },
        "id": "wwPujH9YX_It",
        "outputId": "ab4d64e9-4131-45cc-b4bd-4088488ab3da"
      },
      "execution_count": 26,
      "outputs": [
        {
          "output_type": "stream",
          "name": "stdout",
          "text": [
            "[1] \"Answer: FALSE\"\n"
          ]
        }
      ]
    },
    {
      "cell_type": "markdown",
      "metadata": {
        "id": "0Dw42N_thKrB"
      },
      "source": [
        "#### Effect Identification via CIDP Algorithm\n"
      ]
    },
    {
      "cell_type": "code",
      "source": [
        "%%R\n",
        "\n",
        "if (!require(PAGId)) {\n",
        "  library(devtools, warn.conflicts=F, quietly=T)\n",
        "  devtools::install_github(\"adele/PAGId\", dependencies=TRUE)\n",
        "}\n",
        "\n",
        "library(PAGId)"
      ],
      "metadata": {
        "colab": {
          "base_uri": "https://localhost:8080/"
        },
        "id": "Pb-pS4pas-_t",
        "outputId": "339f6a1a-b6d9-4e4c-9434-3dfe9eb222a3"
      },
      "execution_count": 27,
      "outputs": [
        {
          "output_type": "stream",
          "name": "stderr",
          "text": [
            "WARNING:rpy2.rinterface_lib.callbacks:R[write to console]: Loading required package: PAGId\n",
            "\n"
          ]
        }
      ]
    },
    {
      "cell_type": "markdown",
      "metadata": {
        "id": "hp51F6WYsKJt"
      },
      "source": [
        "#### Marginal Causal Effect"
      ]
    },
    {
      "cell_type": "code",
      "execution_count": 28,
      "metadata": {
        "id": "ztl-aeZnhM5c",
        "colab": {
          "base_uri": "https://localhost:8080/"
        },
        "outputId": "9e97535c-c169-42db-9c85-9d00399db640"
      },
      "outputs": [
        {
          "output_type": "stream",
          "name": "stdout",
          "text": [
            "[1] \"Is P(C|do(B)) identifiable? TRUE\"\n",
            "[1] \"P(C|do(B)) = \\\\sum_{D}\\\\frac{P_{B}(A,C,D)}{P_{B}(A | C,D)}\"\n"
          ]
        }
      ],
      "source": [
        "%%R\n",
        "\n",
        "y = \"C\"\n",
        "x = \"B\"\n",
        "z = c()\n",
        "\n",
        "retPAG <- CIDP(estPAG@amat, x, y, z, verbose = FALSE)\n",
        "\n",
        "print(paste0(\"Is P(\", y, \"|do(\", x, \")) identifiable? \", retPAG$id))\n",
        "if (retPAG$id) {\n",
        "  print(paste0(\"P(\", y, \"|do(\", x, \")) = \", retPAG$Qexpr[[retPAG$query]]))\n",
        "}"
      ]
    },
    {
      "cell_type": "code",
      "source": [
        "%%R\n",
        "\n",
        "# This shows the steps taken by the CIDP algorithm\n",
        "# By substitution and simplication, we will get the same adjustment formula\n",
        " print(retPAG$Qexpr)"
      ],
      "metadata": {
        "colab": {
          "base_uri": "https://localhost:8080/"
        },
        "id": "0G3dTJCAYqPz",
        "outputId": "8a8443cb-9a07-4e6c-e559-241f0012c4fa"
      },
      "execution_count": 29,
      "outputs": [
        {
          "output_type": "stream",
          "name": "stdout",
          "text": [
            "$B\n",
            "[1] \"\\\\frac{P(A,B,C,D)}{P(B | A,D)}\"\n",
            "\n",
            "$`A,B`\n",
            "[1] \"\\\\frac{P_{B}(A,C,D)}{P_{B}(A | C,D)}\"\n",
            "\n",
            "$`P_{B}(C)`\n",
            "[1] \"\\\\sum_{D}\\\\frac{P_{B}(A,C,D)}{P_{B}(A | C,D)}\"\n",
            "\n"
          ]
        }
      ]
    },
    {
      "cell_type": "markdown",
      "metadata": {
        "id": "28kl51PPhPa8"
      },
      "source": [
        "Note: IDP does not simiplifies the expression by leveraging conditional independences. By doing so, we would see the equivalence with the usual adjustment formula.\n",
        "\n"
      ]
    },
    {
      "cell_type": "markdown",
      "metadata": {
        "id": "zhCyDA3OsNEI"
      },
      "source": [
        "#### Conditional Causal Effect"
      ]
    },
    {
      "cell_type": "code",
      "execution_count": 30,
      "metadata": {
        "id": "JCh5wJ8QhRtB",
        "colab": {
          "base_uri": "https://localhost:8080/"
        },
        "outputId": "e70e2402-50c1-4e5a-d971-b479a7584619"
      },
      "outputs": [
        {
          "output_type": "stream",
          "name": "stdout",
          "text": [
            "[1] \"Is P(C|do(B), A) identifiable? TRUE\"\n",
            "[1] \"P(C|do(B), A) = \\\\frac{P_{B,A}(C)}{\\\\sum_{C}P_{B,A}(C)}\"\n"
          ]
        }
      ],
      "source": [
        "%%R\n",
        "\n",
        "y = \"C\"\n",
        "x = \"B\"\n",
        "z = c(\"A\")\n",
        "\n",
        "retPAG <- CIDP(estPAG@amat, x, y, z, verbose = FALSE)\n",
        "\n",
        "print(paste0(\"Is P(\", y, \"|do(\", x, \"), \", z, \") identifiable? \", retPAG$id))\n",
        "if (retPAG$id) {\n",
        "  print(paste0(\"P(\", y, \"|do(\", x, \"), \", z, \") = \", retPAG$Qexpr[[retPAG$query]]))\n",
        "}"
      ]
    },
    {
      "cell_type": "code",
      "source": [
        "%%R\n",
        "\n",
        "# This shows the steps taken by the CIDP algorithm\n",
        "# By substitution and simplication, we will get the same adjustment formula\n",
        "print(retPAG$Qexpr)"
      ],
      "metadata": {
        "colab": {
          "base_uri": "https://localhost:8080/"
        },
        "id": "X-wg0kL_ZM_z",
        "outputId": "109b9005-b5fa-4d43-ebfe-1578a49b4c18"
      },
      "execution_count": 31,
      "outputs": [
        {
          "output_type": "stream",
          "name": "stdout",
          "text": [
            "$B\n",
            "[1] \"\\\\frac{P(A,B,C,D)}{P(B | A,D)}\"\n",
            "\n",
            "$`A,B`\n",
            "[1] \"\\\\frac{P_{B}(A,C,D)}{P_{B}(A | C,D)}\"\n",
            "\n",
            "$`P_{B,A}(C)`\n",
            "[1] \"\\\\sum_{D}\\\\frac{P_{B}(A,C,D)}{P_{B}(A | C,D)}\"\n",
            "\n",
            "$`P_{B}(C | A)`\n",
            "[1] \"\\\\frac{P_{B,A}(C)}{\\\\sum_{C}P_{B,A}(C)}\"\n",
            "\n"
          ]
        }
      ]
    },
    {
      "cell_type": "markdown",
      "metadata": {
        "id": "dxHrND4MhUOM"
      },
      "source": [
        "### Questions:\n",
        "\n",
        "1.  Is the causal effect of D on C identifiable from the PAG? If so, how?"
      ]
    }
  ],
  "metadata": {
    "colab": {
      "collapsed_sections": [
        "kpfPSf_A0zlE"
      ],
      "provenance": [],
      "toc_visible": true
    },
    "kernelspec": {
      "display_name": "Python 3",
      "name": "python3"
    },
    "language_info": {
      "name": "python"
    }
  },
  "nbformat": 4,
  "nbformat_minor": 0
}